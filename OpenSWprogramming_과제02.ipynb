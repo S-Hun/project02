{
 "cells": [
  {
   "cell_type": "code",
   "execution_count": 1,
   "metadata": {},
   "outputs": [],
   "source": [
    "import requests\n",
    "from bs4 import BeautifulSoup\n",
    "import pandas as pd\n",
    "import matplotlib.pyplot as plt\n",
    "import matplotlib.font_manager as fm\n",
    "import matplotlib as mpl"
   ]
  },
  {
   "cell_type": "code",
   "execution_count": 2,
   "metadata": {},
   "outputs": [],
   "source": [
    "plt.rcParams[\"font.family\"] = 'gulim'\n",
    "plt.rcParams['axes.unicode_minus'] = False\n",
    "plt.rcParams['font.size'] = 24.\n",
    "plt.rcParams['xtick.labelsize'] = 12.\n",
    "plt.rcParams['ytick.labelsize'] = 12.\n",
    "plt.rcParams['axes.labelsize'] = 20."
   ]
  },
  {
   "cell_type": "code",
   "execution_count": 3,
   "metadata": {},
   "outputs": [],
   "source": [
    "# 정보가 될 URL\n",
    "info_url = \"https://www.google.com/travel/things-to-do/see-all?g2lb=2502405%2C2502548%2C2503133%2C4208993%2C4254308%2C4258168%2C4260007%2C4270442%2C4274032%2C4285990%2C4289525%2C4291318%2C4301054%2C4305595%2C4308216%2C4308983%2C4313006%2C4314846%2C4315873%2C4317816%2C4317915%2C4324293%2C4326405%2C4328159%2C4329288%2C4270859%2C4284970%2C4291517%2C4292955%2C4316256%2C4333108&hl=ko&gl=kr&un=1&otf=1&dest_mid=%2Fm%2F06qd3&dest_src=ts&dest_state_type=sattd&sa=X#ttdm=36.533547_127.914762_7&ttdmf=%252Fm%252F043pdws\""
   ]
  },
  {
   "cell_type": "code",
   "execution_count": 4,
   "metadata": {},
   "outputs": [
    {
     "name": "stderr",
     "output_type": "stream",
     "text": [
      "C:\\Users\\dinky\\Anaconda3\\lib\\site-packages\\urllib3\\connectionpool.py:847: InsecureRequestWarning: Unverified HTTPS request is being made. Adding certificate verification is strongly advised. See: https://urllib3.readthedocs.io/en/latest/advanced-usage.html#ssl-warnings\n",
      "  InsecureRequestWarning)\n"
     ]
    }
   ],
   "source": [
    "req = requests.get(info_url, verify=False)\n",
    "res = req.text\n",
    "soup = BeautifulSoup(res, 'html.parser')\n",
    "keywords = soup.find_all('div', class_='rbj0Ud')\n",
    "keywords = [line.get_text().strip() for line in keywords]\n",
    "\n",
    "keywords = sorted(keywords)"
   ]
  },
  {
   "cell_type": "code",
   "execution_count": 5,
   "metadata": {},
   "outputs": [],
   "source": [
    "# 검색 결과가 되는 URL\n",
    "src_url = 'https://www.google.com/search?q='\n",
    "# 구글 검색 방식\n",
    "hdr = {'User-Agent': 'Mozilla/5.0'} "
   ]
  },
  {
   "cell_type": "code",
   "execution_count": 6,
   "metadata": {},
   "outputs": [],
   "source": [
    "# 검색명 , 지역의 리스트\n",
    "find_key = []\n",
    "res_key = []\n",
    "\n",
    "for word in keywords :\n",
    "    word = word.replace(' ', '')\n",
    "    req = requests.get(src_url+word, headers = hdr)\n",
    "    res = req.text\n",
    "    soup = BeautifulSoup(res, 'html.parser')\n",
    "    src_keywords = soup.find_all('span', class_='BNeawe tAd8D AP7Wnd')\n",
    "    src_keywords = [line.get_text().strip() for line in src_keywords]\n",
    "    if len(src_keywords) > 0:\n",
    "        res_key.append(src_keywords[0])"
   ]
  },
  {
   "cell_type": "code",
   "execution_count": 7,
   "metadata": {},
   "outputs": [],
   "source": [
    "df1 = pd.read_csv('현거주지성연령및출생지유형별인구시군구_2019.csv')\n",
    "df2 = pd.read_csv('도시지역면적시도시군구2019.csv')\n",
    "\n",
    "df1.columns = df1.loc[0]\n",
    "df2.columns = ['행정구역별','Scale(km^2)']\n",
    "df1 = df1.drop(0)\n",
    "df2 = df2.drop(0)"
   ]
  },
  {
   "cell_type": "code",
   "execution_count": 8,
   "metadata": {},
   "outputs": [],
   "source": [
    "def removeTag(x):\n",
    "    if x['행정구역별'] in ['전국', '동부', '면부', '읍부']:\n",
    "        return False\n",
    "    else:\n",
    "        return True"
   ]
  },
  {
   "cell_type": "code",
   "execution_count": 9,
   "metadata": {},
   "outputs": [],
   "source": [
    "df1 = df1.loc[df1.apply(removeTag, axis=1)]\n",
    "df1 = df1.iloc[:, [0,1,2,4]]\n",
    "df1['현재 살고 있는 집'] = df1['현재 살고 있는 집'].astype('float64')\n",
    "df1 = df1[df1['연령별'] != '합계']\n",
    "df1 = df1.groupby(['행정구역별', '성별'])['현재 살고 있는 집'].mean().reset_index()"
   ]
  },
  {
   "cell_type": "code",
   "execution_count": 10,
   "metadata": {},
   "outputs": [],
   "source": [
    "df_amount = df1.merge(df2, on='행정구역별')\n",
    "df_amount['popPerScale'] = df_amount['현재 살고 있는 집'] / df_amount['Scale(km^2)']"
   ]
  },
  {
   "cell_type": "code",
   "execution_count": 11,
   "metadata": {},
   "outputs": [],
   "source": [
    "#계, 남자, 여자 중 선택\n",
    "select_sex = '계'\n",
    "df_amount = df_amount[df_amount['성별'] == select_sex]"
   ]
  },
  {
   "cell_type": "code",
   "execution_count": 12,
   "metadata": {},
   "outputs": [],
   "source": [
    "df_do = df_amount[df_amount['행정구역별'].str[-1] != '시']\n",
    "df_city = df_amount[df_amount['행정구역별'].str[-1] != '도']"
   ]
  },
  {
   "cell_type": "code",
   "execution_count": 13,
   "metadata": {},
   "outputs": [],
   "source": [
    "res_key = list(map(lambda word : word[:word.find(' ')+1] ,res_key))\n",
    "res_key = list(map(str.strip, res_key))"
   ]
  },
  {
   "cell_type": "code",
   "execution_count": 14,
   "metadata": {},
   "outputs": [
    {
     "name": "stderr",
     "output_type": "stream",
     "text": [
      "C:\\Users\\dinky\\Anaconda3\\lib\\site-packages\\ipykernel_launcher.py:4: SettingWithCopyWarning: \n",
      "A value is trying to be set on a copy of a slice from a DataFrame.\n",
      "Try using .loc[row_indexer,col_indexer] = value instead\n",
      "\n",
      "See the caveats in the documentation: http://pandas.pydata.org/pandas-docs/stable/indexing.html#indexing-view-versus-copy\n",
      "  after removing the cwd from sys.path.\n",
      "C:\\Users\\dinky\\Anaconda3\\lib\\site-packages\\ipykernel_launcher.py:9: SettingWithCopyWarning: \n",
      "A value is trying to be set on a copy of a slice from a DataFrame.\n",
      "Try using .loc[row_indexer,col_indexer] = value instead\n",
      "\n",
      "See the caveats in the documentation: http://pandas.pydata.org/pandas-docs/stable/indexing.html#indexing-view-versus-copy\n",
      "  if __name__ == '__main__':\n"
     ]
    }
   ],
   "source": [
    "count_li = []\n",
    "for i in range(0,len(df_do)):\n",
    "    count_li.append(res_key.count(df_do['행정구역별'].iloc[i]))\n",
    "df_do['src_count'] = count_li;\n",
    "\n",
    "count_li = []\n",
    "for i in range(0, len(df_city)):\n",
    "    count_li.append(res_key.count(df_city['행정구역별'].iloc[i]))\n",
    "df_city['src_count'] = count_li;"
   ]
  },
  {
   "cell_type": "code",
   "execution_count": 15,
   "metadata": {},
   "outputs": [
    {
     "data": {
      "image/png": "[encoded data removed]",
      "text/plain": [
       "<Figure size 1080x432 with 2 Axes>"
      ]
     },
     "metadata": {
      "needs_background": "light"
     },
     "output_type": "display_data"
    }
   ],
   "source": [
    "fig = plt.figure(figsize=(15, 6))\n",
    "axes1 = fig.add_subplot(2, 1, 1)\n",
    "axes1.grid(True)\n",
    "axes2 = fig.add_subplot(2, 1, 2)\n",
    "axes2.grid(True)"
   ]
  },
  {
   "cell_type": "code",
   "execution_count": 16,
   "metadata": {},
   "outputs": [
    {
     "data": {
      "text/plain": [
       "(0, 60)"
      ]
     },
     "execution_count": 16,
     "metadata": {},
     "output_type": "execute_result"
    }
   ],
   "source": [
    "axes1.set_ylim([0,60])\n",
    "axes2.set_ylim([0,60])"
   ]
  },
  {
   "cell_type": "code",
   "execution_count": 17,
   "metadata": {},
   "outputs": [
    {
     "data": {
      "text/plain": [
       "<matplotlib.collections.PathCollection at 0x17493cc0eb8>"
      ]
     },
     "execution_count": 17,
     "metadata": {},
     "output_type": "execute_result"
    }
   ],
   "source": [
    "axes1.bar(x = df_do['행정구역별'], height = df_do['popPerScale'], alpha=0.6)\n",
    "axes1.scatter(x = df_do['행정구역별'], y = df_do['src_count'])\n",
    "axes2.bar(x = df_city['행정구역별'], height = df_city['popPerScale'], alpha=0.6)\n",
    "axes2.scatter(x = df_city['행정구역별'], y = df_city['src_count'])"
   ]
  },
  {
   "cell_type": "code",
   "execution_count": 18,
   "metadata": {},
   "outputs": [
    {
     "data": {
      "image/png": "[encoded data removed]",
      "text/plain": [
       "<Figure size 1080x432 with 2 Axes>"
      ]
     },
     "execution_count": 18,
     "metadata": {},
     "output_type": "execute_result"
    }
   ],
   "source": [
    "fig"
   ]
  }
 ],
 "metadata": {
  "kernelspec": {
   "display_name": "Python 3",
   "language": "python",
   "name": "python3"
  },
  "language_info": {
   "codemirror_mode": {
    "name": "ipython",
    "version": 3
   },
   "file_extension": ".py",
   "mimetype": "text/x-python",
   "name": "python",
   "nbconvert_exporter": "python",
   "pygments_lexer": "ipython3",
   "version": "3.7.3"
  }
 },
 "nbformat": 4,
 "nbformat_minor": 2
}
